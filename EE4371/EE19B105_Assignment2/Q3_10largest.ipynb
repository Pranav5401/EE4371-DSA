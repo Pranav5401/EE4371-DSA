{
 "cells": [
  {
   "cell_type": "code",
   "execution_count": 1,
   "metadata": {},
   "outputs": [],
   "source": [
    "#For this question we can use Merge SOrt, but it will be of the order(NlogN)\n",
    "#Instead, will iterate through the sequence 10 times and take out the maximum element each time\n",
    "#The order of such an algorithm is 10*N which is O(N) for a large enough N\n",
    "#Hence it is more efficient than a Merge Sort\n",
    "#Merge Sort is more efficient in cases where we have to arrange whole array"
   ]
  },
  {
   "cell_type": "code",
   "execution_count": 2,
   "metadata": {},
   "outputs": [],
   "source": [
    "#Importing required libraries\n",
    "import random\n",
    "import time\n",
    "import math\n"
   ]
  },
  {
   "cell_type": "code",
   "execution_count": 3,
   "metadata": {},
   "outputs": [],
   "source": [
    "def Ten_Largest_Elements(seq):              #Function defined to find 10 largest elements\n",
    "    n = len(seq)                            #finding length of sequence to use in for loop \n",
    "    result = [0]*10                         #Creating empty list of 10 values to store output\n",
    "    for i in range(10):\n",
    "        max = 0                             #Setting max to 0 before entering for loop for seq\n",
    "        for j in range(n-i):\n",
    "            if seq[j] >= max:\n",
    "                max = seq[j]                #max is set to value of element if it exceeds previous value of max \n",
    "                k = j\n",
    "        result[i]=max\n",
    "        seq.pop(k)                         #popping the max element from temp so that next time we find max,\n",
    "                                            #the loop won't give same value as before\n",
    "    return result    "
   ]
  },
  {
   "cell_type": "code",
   "execution_count": 4,
   "metadata": {},
   "outputs": [
    {
     "name": "stdout",
     "output_type": "stream",
     "text": [
      "Please enter an integer value which you want to be the length of sequence:25\n"
     ]
    }
   ],
   "source": [
    "n = int(input(\"Please enter an integer value which you want to be the length of sequence:\"))"
   ]
  },
  {
   "cell_type": "code",
   "execution_count": 5,
   "metadata": {},
   "outputs": [
    {
     "name": "stdout",
     "output_type": "stream",
     "text": [
      "Input sequence is: [700, 525, 594, 40, 344, 76, 794, 696, 363, 54, 752, 967, 702, 484, 414, 479, 599, 734, 638, 90, 16, 905, 784, 368, 394]\n",
      "10 largest elements are: [967, 905, 794, 784, 752, 734, 702, 700, 696, 638]\n"
     ]
    }
   ],
   "source": [
    "#I will arrange the randomly generated sequence of the length specified by the user\n",
    "#in decreasing order using Merge_Sort and Merge functions, output is the first 10 elements of the\n",
    "#sequence arranged in decreasing order\n",
    "\n",
    "seq=list()\n",
    "for i in range(n):\n",
    "    seq.append(random.randint(1,1000))              #Add a random integer in the range 1 to 1000 to this sequence        \n",
    "temp = [x for x in seq]                             #creating temp so pop won't alter original seq\n",
    "output = Ten_Largest_Elements(temp)                 #Ten_Largest_Elements is compiled in this line\n",
    "print(\"Input sequence is:\",seq)                     #printing input sequence\n",
    "print(\"10 largest elements are:\",output)            #printing result that is the 10 largest elements of the sequence  \n",
    " \n"
   ]
  },
  {
   "cell_type": "code",
   "execution_count": null,
   "metadata": {},
   "outputs": [],
   "source": []
  },
  {
   "cell_type": "code",
   "execution_count": null,
   "metadata": {},
   "outputs": [],
   "source": []
  },
  {
   "cell_type": "code",
   "execution_count": null,
   "metadata": {},
   "outputs": [],
   "source": []
  }
 ],
 "metadata": {
  "kernelspec": {
   "display_name": "Python 3",
   "language": "python",
   "name": "python3"
  },
  "language_info": {
   "codemirror_mode": {
    "name": "ipython",
    "version": 3
   },
   "file_extension": ".py",
   "mimetype": "text/x-python",
   "name": "python",
   "nbconvert_exporter": "python",
   "pygments_lexer": "ipython3",
   "version": "3.7.6"
  }
 },
 "nbformat": 4,
 "nbformat_minor": 4
}
