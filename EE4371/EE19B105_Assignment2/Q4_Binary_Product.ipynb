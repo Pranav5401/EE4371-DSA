{
 "cells": [
  {
   "cell_type": "code",
   "execution_count": 1,
   "metadata": {},
   "outputs": [],
   "source": [
    "#Binary Product of 2 given inputs using Karatsuba's implementations for efficient time complexity of\n",
    "#O(n^log3) where log is to the base 2\n",
    "#I will work in binary numbers, will define binary additon (Full Adder of sorts) and product which will be used \n",
    "#in the recursion method of Karatsuba"
   ]
  },
  {
   "cell_type": "code",
   "execution_count": 2,
   "metadata": {},
   "outputs": [],
   "source": [
    "import math        #Importing required libraries"
   ]
  },
  {
   "cell_type": "code",
   "execution_count": 3,
   "metadata": {},
   "outputs": [],
   "source": [
    "def single_digit_product(str1,str2):            #Since input is binary, single digit product can be defined as \n",
    "    return int(str1[0])*int(str2[0])            #normal product itself\n"
   ]
  },
  {
   "cell_type": "code",
   "execution_count": 4,
   "metadata": {},
   "outputs": [],
   "source": [
    "def match_lengths(str1,str2):                   #Its easier to operate on 2 numbers of equal length while using \n",
    "    if len(str1)==len(str2):                    #karatsuba's so will add zeros behind the smaller number if that\n",
    "        return (str1,str2)                      #case comes up \n",
    "\n",
    "    elif len(str1) < len(str2):\n",
    "        while(len(str1)!=len(str2)):\n",
    "            str1 = '0' + str1\n",
    "        return (str1,str2)\n",
    "\n",
    "    else:\n",
    "        while(len(str1)!=len(str2)):\n",
    "            str2 = '0' + str2\n",
    "        return (str1,str2)\n"
   ]
  },
  {
   "cell_type": "code",
   "execution_count": 5,
   "metadata": {},
   "outputs": [],
   "source": [
    "def binary_addition(str1,str2):                 #Will choose to operate on strings instead of int form\n",
    "    result = \"\"                                 #since we are defining binary add and multiply\n",
    "    carry = 0                                   #and its easier to add carry's to strings\n",
    "\n",
    "    str1,str2 = match_lengths(str1,str2)        #Matching lengths of both inputs so addition can be implemented \n",
    "\n",
    "    for i in range(len(str1)-1,-1,-1):          #len(str)-1 is the lowest bit and since carry may overflow -1 is \n",
    "        bit_1 = int(str1[i])                    #the highest and addition must be from lowest to highest, iteration\n",
    "        bit_2 = int(str2[i])                    #is backwards\n",
    "\n",
    "        sum_bit = (bit_1 ^ bit_2 ^ carry)       #Using bitwise operations to create full adder\n",
    "        result = str(sum_bit) + result          #storing sum_bit each time to result by appending on left side\n",
    "\n",
    "        carry = (bit_1 and bit_2) or (bit_1 and carry) or (bit_2 and carry)\n",
    "\n",
    "    if carry == 1:\n",
    "        result = '1' + result\n",
    "\n",
    "    return result\n"
   ]
  },
  {
   "cell_type": "code",
   "execution_count": 6,
   "metadata": {},
   "outputs": [],
   "source": [
    "def Karastuba(str1,str2):\n",
    "    str1,str2 = match_lengths(str1,str2)              #Matching lengths for easier use of Karatsuba\n",
    "\n",
    "    if len(str1) == 0:                                #Defining initial conditions for recursion\n",
    "        return 0\n",
    "    elif len(str1) == 1:\n",
    "        return single_digit_product(str1,str2)\n",
    "\n",
    "    length = int(len(str1))                           #finding length of input to split it for recursion \n",
    "\n",
    "    L = length//2                                     #left half length\n",
    "    R = length - L                                    #right half length\n",
    "\n",
    "    str1_left = str1[:length//2]                      #splitting inputs to use for recursion \n",
    "    str2_left = str2[:length//2]\n",
    "\n",
    "    str1_right = str1[length//2:]\n",
    "    str2_right = str2[length//2:]\n",
    "\n",
    "    K1 = int(Karastuba(str1_left,str2_left))         #K1 is first recursive use of Karatsuba  \n",
    "    K2 = int(Karastuba(str1_right,str2_right))       #K2 is second recursive use of Karatsuba\n",
    "    K3 = int(Karastuba(binary_addition(str1_left,str1_right),binary_addition(str2_left,str2_right)))\n",
    "                                                     #K3 is third recursive use of Karatsuba\n",
    "        \n",
    "    return K1*(1<<(2*R)) + (K3 - K1 - K2)*(1<<R) + K2\n"
   ]
  },
  {
   "cell_type": "code",
   "execution_count": 7,
   "metadata": {},
   "outputs": [
    {
     "name": "stdout",
     "output_type": "stream",
     "text": [
      "Enter binary number 1 : 10011011\n",
      "Enter binary number 2 : 10111010\n",
      "The product of the two numbers in decimal is 28830 and in binary is 111000010011110 \n",
      "\n"
     ]
    }
   ],
   "source": [
    "str1 = input(\"Enter binary number 1 : \")\n",
    "str2 = input(\"Enter binary number 2 : \")\n",
    "answer = Karastuba(str1,str2)                        #Calling Karatsuba function\n",
    "print(\"The product of the two numbers in decimal is {0} and in binary is {1} \\n\".format(answer,bin(answer).replace(\"0b\",\"\")))\n",
    "                                                     #Converted decimal to binary to print both outputs"
   ]
  },
  {
   "cell_type": "code",
   "execution_count": null,
   "metadata": {},
   "outputs": [],
   "source": []
  }
 ],
 "metadata": {
  "kernelspec": {
   "display_name": "Python 3",
   "language": "python",
   "name": "python3"
  },
  "language_info": {
   "codemirror_mode": {
    "name": "ipython",
    "version": 3
   },
   "file_extension": ".py",
   "mimetype": "text/x-python",
   "name": "python",
   "nbconvert_exporter": "python",
   "pygments_lexer": "ipython3",
   "version": "3.7.6"
  }
 },
 "nbformat": 4,
 "nbformat_minor": 4
}
