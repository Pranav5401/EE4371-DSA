{
 "cells": [
  {
   "cell_type": "code",
   "execution_count": 1,
   "metadata": {},
   "outputs": [],
   "source": [
    "#Find the maximum element of a unimodal array using an algorithm of O(logn)\n",
    "#I will go about this by usingan algorithm similar to a binary search tree\n",
    "#Will start by locating the middle element of the array and check if it is >= its previous element\n",
    "#If yes then will jump to right by half of n/2 to n, else will jump to left by half 0 to n/2\n",
    "#n is the length of the array"
   ]
  },
  {
   "cell_type": "code",
   "execution_count": 2,
   "metadata": {},
   "outputs": [
    {
     "name": "stdout",
     "output_type": "stream",
     "text": [
      "Enter the elements of unimodal array.\n",
      "\n",
      "2 4.5 6 7.8 9.1 12 15.6 14 12.4 8 5.2\n"
     ]
    }
   ],
   "source": [
    "print(\"Enter the elements of unimodal array.\\n\")\n",
    "x = input()"
   ]
  },
  {
   "cell_type": "code",
   "execution_count": 3,
   "metadata": {},
   "outputs": [],
   "source": [
    "A = x.split()\n",
    "n = len(A)"
   ]
  },
  {
   "cell_type": "code",
   "execution_count": 4,
   "metadata": {},
   "outputs": [
    {
     "name": "stdout",
     "output_type": "stream",
     "text": [
      "The list is: ['2', '4.5', '6', '7.8', '9.1', '12', '15.6', '14', '12.4', '8', '5.2']\n",
      "The number of elements are: 11\n"
     ]
    }
   ],
   "source": [
    "print(\"The list is:\",A)\n",
    "print(\"The number of elements are:\",n)"
   ]
  },
  {
   "cell_type": "code",
   "execution_count": 5,
   "metadata": {},
   "outputs": [
    {
     "name": "stdout",
     "output_type": "stream",
     "text": [
      "Maximum element of this unimodal array is 15.6 and it is present at position 7\n",
      "\n"
     ]
    }
   ],
   "source": [
    "L = 0                                           #dynamic index - left\n",
    "R = n - 1                                       #dynamic index - right\n",
    "while R - L > 1:            #while the left and right dynamic indices do not become close enough to pinpoint to single element\n",
    "    K = (L+R)//2                            #middle index\n",
    "    if float(A[K]) >= float(A[K-1]):                #condition for array to be increasing at index K (middle)\n",
    "        L = K                                   #take middle index as new left\n",
    "    else:\n",
    "        R = K                                   #take middle index as new right\n",
    "print(\"Maximum element of this unimodal array is {0} and it is present at position {1}\\n\".format(float(A[L]), L+1))"
   ]
  },
  {
   "cell_type": "code",
   "execution_count": null,
   "metadata": {},
   "outputs": [],
   "source": []
  }
 ],
 "metadata": {
  "kernelspec": {
   "display_name": "Python 3",
   "language": "python",
   "name": "python3"
  },
  "language_info": {
   "codemirror_mode": {
    "name": "ipython",
    "version": 3
   },
   "file_extension": ".py",
   "mimetype": "text/x-python",
   "name": "python",
   "nbconvert_exporter": "python",
   "pygments_lexer": "ipython3",
   "version": "3.7.6"
  }
 },
 "nbformat": 4,
 "nbformat_minor": 4
}
