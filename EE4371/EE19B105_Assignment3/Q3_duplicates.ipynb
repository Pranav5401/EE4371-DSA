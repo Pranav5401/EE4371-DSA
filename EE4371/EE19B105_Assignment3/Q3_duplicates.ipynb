{
 "cells": [
  {
   "cell_type": "code",
   "execution_count": 1,
   "metadata": {},
   "outputs": [],
   "source": [
    "#Will write a Merge Sort code and implement it to order the sequence\n",
    "#Then will iterate through the sorted sequence once to remove all the repeated entries"
   ]
  },
  {
   "cell_type": "code",
   "execution_count": 2,
   "metadata": {},
   "outputs": [],
   "source": [
    "def Merge_Sort(seq):\n",
    "    n=len(seq)\n",
    "    if n<=1:                            #Defining initial condition for recursion\n",
    "        return seq\n",
    "    if n%2==0:\n",
    "        n1=n//2\n",
    "    else:\n",
    "        n1=(n+1)//2        \n",
    "    left = (seq[0:n1])                  #Dividing original array into left half approximately\n",
    "    right = (seq[n1:n])                 #Dividing original array into right half approximately\n",
    "    L=Merge_Sort(left)                  #Recursive step on left\n",
    "    R=Merge_Sort(right)                 #Recursive step on right  \n",
    "    return Merge(L,R)\n"
   ]
  },
  {
   "cell_type": "code",
   "execution_count": 3,
   "metadata": {},
   "outputs": [],
   "source": [
    "def Merge(L,R):\n",
    "    n1=len(L)\n",
    "    n2=len(R)\n",
    "    n = n1+n2\n",
    "    result = [0]*n              #Creating empty list of total length to store sorted list\n",
    "    i=0                         #Variable to iterate through L\n",
    "    j=0                         #Variable to iterate through R\n",
    "    k=0                         #Variable to iterate through result list\n",
    "    \n",
    "    while i < n1 and j < n2 :        #Merge Step\n",
    "        if L[i] <= R[j]:             #To put smaller element before larger element\n",
    "            result[k] = L[i] \n",
    "            i += 1\n",
    "        else: \n",
    "            result[k] = R[j] \n",
    "            j += 1\n",
    "        k += 1\n",
    "  \n",
    "    while i < n1:          # Copy the remaining elements of L[], if there are any  \n",
    "        result[k] = L[i] \n",
    "        i += 1\n",
    "        k += 1\n",
    "    \n",
    "    while j < n2:          # Copy the remaining elements of R[], if there are any  \n",
    "        result[k] = R[j] \n",
    "        j += 1\n",
    "        k += 1\n",
    "    return result\n"
   ]
  },
  {
   "cell_type": "code",
   "execution_count": 4,
   "metadata": {},
   "outputs": [
    {
     "name": "stdout",
     "output_type": "stream",
     "text": [
      "Enter the sequence from which you want to delete duplicates:-2 3 4.5 7 9 -6 4.5 -2 3\n"
     ]
    }
   ],
   "source": [
    "X = input(\"Enter the sequence from which you want to delete duplicates:\")"
   ]
  },
  {
   "cell_type": "code",
   "execution_count": 5,
   "metadata": {},
   "outputs": [],
   "source": [
    "temp = X.split()\n",
    "seq = list()                         #Creating empty list to append to it the int for float values from input\n",
    "for i in temp:                       #Since time complexity of function is O(nlogn), this will not affect run time\n",
    "    if i.isnumeric():                #much, and since merge sort is written for floats we have to input a seq of \n",
    "        seq.append(int(i))           #floats or ints or combined\n",
    "    else:\n",
    "        seq.append(float(i))"
   ]
  },
  {
   "cell_type": "code",
   "execution_count": 6,
   "metadata": {},
   "outputs": [],
   "source": [
    "sorted_seq = Merge_Sort(seq)                          #Applying Merge Sort to the sequence\n"
   ]
  },
  {
   "cell_type": "code",
   "execution_count": 7,
   "metadata": {},
   "outputs": [
    {
     "name": "stdout",
     "output_type": "stream",
     "text": [
      "[-2.0, 3, 4.5, 7, 9, -6.0, 4.5, -2.0, 3]\n",
      "[-6.0, -2.0, 3, 4.5, 7, 9]\n"
     ]
    }
   ],
   "source": [
    "deleter = sorted_seq[0]                               #Creating deleter to check if element is repeating\n",
    "result_seq = list()\n",
    "result_seq.append(deleter)                            #Since first element will be there, if repeated again will\n",
    "k = len(sorted_seq)                                   #not append it to list as can be seen from the for loop\n",
    "for j in range(0,k):\n",
    "    if j!=0:                                          #Since I have assigned deleter variable to sorted_seq[0]\n",
    "        if sorted_seq[j] == deleter:                  #and don't want to delete that \n",
    "            continue                                  #Not adding already occured element, hence continue\n",
    "        else:\n",
    "            deleter = sorted_seq[j]\n",
    "            result_seq.append(deleter)                #Appending newly occured element \n",
    "print(seq)                                            #printing original and sorted sequence\n",
    "print(result_seq)\n",
    "    "
   ]
  },
  {
   "cell_type": "code",
   "execution_count": 8,
   "metadata": {},
   "outputs": [],
   "source": [
    "#Faster implementation than in O(nlogn) is possible to get the same result"
   ]
  },
  {
   "cell_type": "code",
   "execution_count": 9,
   "metadata": {},
   "outputs": [],
   "source": [
    "#It can be done by using dictionary which uses the priniciple of hash tables."
   ]
  },
  {
   "cell_type": "code",
   "execution_count": 10,
   "metadata": {},
   "outputs": [
    {
     "name": "stdout",
     "output_type": "stream",
     "text": [
      "To remove duplicates from a sequence of elements \n",
      "\n",
      "Enter the sequence of elements seperated by space : cd 5 6.7 -8 a cd 6.7 -6 5\n",
      "['cd', '5', '6.7', '-8', 'a', '-6']\n"
     ]
    }
   ],
   "source": [
    "def remove_duplicates ():\n",
    "    print(\"To remove duplicates from a sequence of elements \")\n",
    "    print()\n",
    "\n",
    "    seq2 = input(\"Enter the sequence of elements seperated by space : \")\n",
    "    list_of_elements = seq2.split()                #To make a list of the sequence given as input by user\n",
    "\n",
    "    dict_of_elements = {}                          #Creating an empty dictionary\n",
    "    sorted_seq2 = []                               #Creating an empty list to store result\n",
    "    \n",
    "    for element in list_of_elements:\n",
    "        if element in dict_of_elements:             #If element is already present, do nothing\n",
    "            pass\n",
    "        else:\n",
    "            sorted_seq2.append(element)            #If a new element has occurred, add it to the sorted_seq2 list\n",
    "            dict_of_elements[element] = 1          #If a new element has occurred, add its entry in dictionary \n",
    "                                                   #with the element as key and  its value as 1                 \n",
    "    return sorted_seq2\n",
    "\n",
    "sorted_seq2 = remove_duplicates()\n",
    "print(sorted_seq2)"
   ]
  },
  {
   "cell_type": "code",
   "execution_count": null,
   "metadata": {},
   "outputs": [],
   "source": []
  }
 ],
 "metadata": {
  "kernelspec": {
   "display_name": "Python 3",
   "language": "python",
   "name": "python3"
  },
  "language_info": {
   "codemirror_mode": {
    "name": "ipython",
    "version": 3
   },
   "file_extension": ".py",
   "mimetype": "text/x-python",
   "name": "python",
   "nbconvert_exporter": "python",
   "pygments_lexer": "ipython3",
   "version": "3.7.6"
  }
 },
 "nbformat": 4,
 "nbformat_minor": 4
}
