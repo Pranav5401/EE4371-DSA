{
 "cells": [
  {
   "cell_type": "code",
   "execution_count": 1,
   "metadata": {},
   "outputs": [],
   "source": [
    "# Python program for implementation of Radix Sort \n",
    "# A function to do counting sort of arr[] according to base given by base\n",
    "import math"
   ]
  },
  {
   "cell_type": "code",
   "execution_count": 2,
   "metadata": {},
   "outputs": [],
   "source": [
    "#Counting Sort implemenetaion ( used as subroutine call for radix)\n",
    "\n",
    "def counting_sort(nums,d,radix):\n",
    "    \n",
    "    length=len(nums)        #Length of the input array\n",
    "    output=[0]*length       #The output array that will have be sorted using the dth place \n",
    "    count=[0]*radix         #Initialising the count array\n",
    "    div=radix**d            #Caclulating radix^d to extract the dth place from the elements of our array\n",
    "    \n",
    "    A=[(x//div)%radix for x in nums]  #extracting the unit's place,ten's place..... and so on to perform counting \n",
    "                                      #sort\n",
    "    #Step1\n",
    "    for i in A:     # Finding the total count of each unique digit in dth place of elements and storing it into c.\n",
    "        count[i]=count[i]+1\n",
    "    \n",
    "    #Step2\n",
    "    for i in range(len(count)-1):   #Finding the cumulative sum of the elements of c and storing it into c itself\n",
    "        count[i+1]=count[i+1]+count[i]\n",
    "        \n",
    "    #Step3\n",
    "    for i in range(length):\n",
    "        output[count[A[length-i-1]]-1]=nums[length-i-1]    #Iterating from the end of the array, to preserve the \n",
    "                                                           #relative order while sorting (Stable Sort)\n",
    "        count[A[length-i-1]]=count[A[length-i-1]]-1        #Decrease count of each element restored by 1.\n",
    "    return output\n"
   ]
  },
  {
   "cell_type": "code",
   "execution_count": 3,
   "metadata": {},
   "outputs": [],
   "source": [
    "#Radix Sort implementation\n",
    "\n",
    "def radix_sort(nums):\n",
    "    \n",
    "    # iterations is equal to the maximum number of digits in the elements of list l1\n",
    "    iterations=math.floor(math.log(max(nums),len(nums)))+1  # Calculating by taking log(max(l1)) and taking \n",
    "                                                            #base logarithm as radix\n",
    "    \n",
    "    # As explained earlier, we take our radix  equal to the number of elements in the list for maximum efficiency \n",
    "    radix=len(nums)\n",
    "    \n",
    "    for i in range(iterations):     #Performing counting sort for Least Significant Digit,\n",
    "                                    #Least Significant Digit+1,..., Most Significant Digit. \n",
    "                                \n",
    "        nums=counting_sort(nums,i,radix) #calling counting_sort function\n",
    "    return nums\n"
   ]
  },
  {
   "cell_type": "code",
   "execution_count": 4,
   "metadata": {},
   "outputs": [
    {
     "name": "stdout",
     "output_type": "stream",
     "text": [
      "Enter sequence of numbers seperated by space: 4 23 18 61 39 51 11 42\n",
      "[4, 11, 18, 23, 39, 42, 51, 61]\n"
     ]
    }
   ],
   "source": [
    "#Calling Radix Sort\n",
    "\n",
    "seq = input(\"Enter sequence of numbers seperated by space: \")  #Taking input from the user\n",
    "    \n",
    "nums = seq.split()            #Splitting the input taken into individual numbers with space \n",
    "nums=[int(i) for i in nums]   #Typecasting all elements of list as int which were initially \n",
    "                                  #taken as string data type\n",
    "    \n",
    "sorted_seq = radix_sort(nums)\n",
    "print(sorted_seq)    "
   ]
  },
  {
   "cell_type": "code",
   "execution_count": null,
   "metadata": {},
   "outputs": [],
   "source": []
  }
 ],
 "metadata": {
  "kernelspec": {
   "display_name": "Python 3",
   "language": "python",
   "name": "python3"
  },
  "language_info": {
   "codemirror_mode": {
    "name": "ipython",
    "version": 3
   },
   "file_extension": ".py",
   "mimetype": "text/x-python",
   "name": "python",
   "nbconvert_exporter": "python",
   "pygments_lexer": "ipython3",
   "version": "3.6.9"
  }
 },
 "nbformat": 4,
 "nbformat_minor": 2
}
