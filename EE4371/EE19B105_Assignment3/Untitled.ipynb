{
 "cells": [
  {
   "cell_type": "code",
   "execution_count": 1,
   "metadata": {},
   "outputs": [],
   "source": [
    "import random\n",
    "\n",
    "def recursive(n):                                   #Recursion for 365 permutate n divided by 365^n\n",
    "    if n==1:\n",
    "        return 1\n",
    "    else:\n",
    "        return ((366-n)/365)*recursive(n-1)\n",
    "    \n",
    "def theoretical_probability(n):                     #Theoretical probability that 2 birthdays coincide                \n",
    "    return 1-recursive(n)   "
   ]
  },
  {
   "cell_type": "code",
   "execution_count": 6,
   "metadata": {},
   "outputs": [],
   "source": [
    "def experimental_probability(n,max_iter):    \n",
    "    \n",
    "    s=0                                             #Expermintal probability variable       \n",
    "    for i in range(0,max_iter):                     #Doing experiment max_iter times with all dsitinct sets of \n",
    "                                                    #birthdates\n",
    "        birthdates = list()\n",
    "        for i in range(0,n):\n",
    "            birthdates.append(random.randint(1,366))        #x birthdate refers to person being born on \n",
    "                                                            #xth day of the year\n",
    "\n",
    "        c=0                                         #c=0 means birthdays don't coincide, will reset c to 1 \n",
    "                                                    #if 2 birthdays coincide                                         \n",
    "        for j in range(0,n):                    \n",
    "            for k in range(j+1,n):\n",
    "                if birthdates[k]==birthdates[j]:\n",
    "                    c=1                                 #c=1 means birthdays coincide                                                              \n",
    "        s+=c                                            #sum of c's for each trial     \n",
    "    p=s/max_iter                           #Experimental probability is sum of trials divided by number of trials                                                         \n",
    "    return p\n"
   ]
  },
  {
   "cell_type": "code",
   "execution_count": 5,
   "metadata": {},
   "outputs": [],
   "source": [
    "#Will take max_iter as 100 first and 10000 then as 2 different examples\n",
    "#Will write error = experimental_probability(n,max_iter)-theoretical_probability(n) to a file and plot these\n",
    "#For plotting purpose, gnuplot will be used, these parts of code I've done from a .py file which contains\n"
   ]
  },
  {
   "cell_type": "code",
   "execution_count": null,
   "metadata": {},
   "outputs": [],
   "source": []
  }
 ],
 "metadata": {
  "kernelspec": {
   "display_name": "Python 3",
   "language": "python",
   "name": "python3"
  },
  "language_info": {
   "codemirror_mode": {
    "name": "ipython",
    "version": 3
   },
   "file_extension": ".py",
   "mimetype": "text/x-python",
   "name": "python",
   "nbconvert_exporter": "python",
   "pygments_lexer": "ipython3",
   "version": "3.7.6"
  }
 },
 "nbformat": 4,
 "nbformat_minor": 4
}
