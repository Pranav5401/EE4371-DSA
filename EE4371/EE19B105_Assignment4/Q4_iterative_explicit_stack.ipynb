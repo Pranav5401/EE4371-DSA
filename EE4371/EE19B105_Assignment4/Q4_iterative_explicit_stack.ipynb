{
 "cells": [
  {
   "cell_type": "code",
   "execution_count": 1,
   "metadata": {},
   "outputs": [],
   "source": [
    "def permutation_stack(n):     #Function to implement printing of permutation of numbers from 1 to n\n",
    "                              #using iterative algorithm using explicit stack  \n",
    "    \n",
    "    current_numbers = []      #Initialising list to be printed\n",
    "    kth_bit = n*[0]           #Initialising kth_bit array, a 0 appearing in kth position corresponds to k not \n",
    "                              #being in current_numbers array and 1 appearing corresponds to it being there.\n",
    "    \n",
    "    numbers_list = [x for x in range(1,n+1)]    #Making a list of numbers from 1 upto n\n",
    "    \n",
    "    count = 0                 #setting count to 0, will increase it by 1 everytime a permutation is printed\n",
    "    stack = []                #Initialising explicit stack   \n",
    "    case = 0                  #Initialising case, since there are 2 cases in iteration\n",
    "\n",
    "    while 1:                  #While loop to implement iteration \n",
    "        \n",
    "        if case == 0:         #Case when a recursive call was made in the previous iteration of while loop         \n",
    "            \n",
    "            no_zeros = 1      #Value to check if we encountered no zeroes in kth_bit array\n",
    "            \n",
    "            for i in range(len(numbers_list)):     #Loop through kth_bit array\n",
    "                \n",
    "                if kth_bit[i] == 0:    #If we encounter a zero, push its index to stack and break the loop\n",
    "                    no_zeros = 0\n",
    "                    kth_bit[i] = 1\n",
    "                    current_numbers.append(numbers_list[i])\n",
    "                    stack.append(i)\n",
    "                    break\n",
    "\n",
    "            if no_zeros:               #If no zeros occurs ( i.e all entries have occured ) print the permutation\n",
    "                print(current_numbers)\n",
    "                count += 1\n",
    "                case = 1               #Since we have returned value here, we need to start popping entries from \n",
    "                                       #stack so set case to 1 in which we pop entries and do recursive type call \n",
    "                                       #using iterative form of while loop \n",
    "                \n",
    "\n",
    "        else:                 #Case when a function was returned in the previous iteration of while loop\n",
    "            \n",
    "            index = stack.pop()     #The last index from where recursion call was made on that level in the \n",
    "                                    #previous iteration\n",
    "            \n",
    "            current_numbers.pop()   #Pop the corresponding number from output array and set the kth_bit of that\n",
    "                                    #index to 0\n",
    "            kth_bit[index] = 0\n",
    "            \n",
    "            for i in range(index+1,len(numbers_list)):    #Iterate through kth_bit array looking for zeroes\n",
    "                \n",
    "                if kth_bit[i] == 0:        #If we encounter a zero, push its index to stack and break the loop\n",
    "                    kth_bit[i] = 1\n",
    "                    current_numbers.append(numbers_list[i])\n",
    "                    stack.append(i)\n",
    "                    case = 0               #Again as a recursive call is made here, we need to set case to 0            \n",
    "                    break\n",
    "\n",
    "            if len(stack) == 0:\n",
    "                break\n",
    "    return count                           #We are already printing all permutations, return count as a double\n",
    "                                           #check that all cases have been iterated through, value of this is n! \n",
    "                    \n",
    "\n"
   ]
  },
  {
   "cell_type": "code",
   "execution_count": 2,
   "metadata": {},
   "outputs": [
    {
     "name": "stdout",
     "output_type": "stream",
     "text": [
      "[1, 2, 3, 4]\n",
      "[1, 2, 4, 3]\n",
      "[1, 3, 2, 4]\n",
      "[1, 3, 4, 2]\n",
      "[1, 4, 2, 3]\n",
      "[1, 4, 3, 2]\n",
      "[2, 1, 3, 4]\n",
      "[2, 1, 4, 3]\n",
      "[2, 3, 1, 4]\n",
      "[2, 3, 4, 1]\n",
      "[2, 4, 1, 3]\n",
      "[2, 4, 3, 1]\n",
      "[3, 1, 2, 4]\n",
      "[3, 1, 4, 2]\n",
      "[3, 2, 1, 4]\n",
      "[3, 2, 4, 1]\n",
      "[3, 4, 1, 2]\n",
      "[3, 4, 2, 1]\n",
      "[4, 1, 2, 3]\n",
      "[4, 1, 3, 2]\n",
      "[4, 2, 1, 3]\n",
      "[4, 2, 3, 1]\n",
      "[4, 3, 1, 2]\n",
      "[4, 3, 2, 1]\n",
      "24\n"
     ]
    }
   ],
   "source": [
    "n = 4\n",
    "count = permutation_stack(n)\n",
    "print(count)"
   ]
  },
  {
   "cell_type": "code",
   "execution_count": null,
   "metadata": {},
   "outputs": [],
   "source": []
  }
 ],
 "metadata": {
  "kernelspec": {
   "display_name": "Python 3",
   "language": "python",
   "name": "python3"
  },
  "language_info": {
   "codemirror_mode": {
    "name": "ipython",
    "version": 3
   },
   "file_extension": ".py",
   "mimetype": "text/x-python",
   "name": "python",
   "nbconvert_exporter": "python",
   "pygments_lexer": "ipython3",
   "version": "3.7.6"
  }
 },
 "nbformat": 4,
 "nbformat_minor": 4
}
