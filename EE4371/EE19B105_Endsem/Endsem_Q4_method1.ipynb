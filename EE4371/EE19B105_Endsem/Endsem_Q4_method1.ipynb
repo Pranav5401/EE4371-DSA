{
 "cells": [
  {
   "cell_type": "code",
   "execution_count": 1,
   "metadata": {},
   "outputs": [],
   "source": [
    "from queue import Queue \n",
    "  \n",
    "class Stack: \n",
    "      \n",
    "    def __init__(self): \n",
    "          \n",
    "        # Two inbuilt queues  \n",
    "        self.q1 = Queue() \n",
    "        self.q2 = Queue()  \n",
    "              \n",
    "        self.current_size = 0    # To maintain current number of elements \n",
    "        \n",
    "  \n",
    "    def push(self, x): \n",
    "        self.current_size += 1   #Since an element is added, increase number of elements by 1\n",
    "  \n",
    "        # Push x first in empty q2  \n",
    "        self.q2.put(x)  \n",
    "  \n",
    "        # Push all the remaining elements in q1 to q2.  \n",
    "        while (not self.q1.empty()): \n",
    "            self.q2.put(self.q1.queue[0])  \n",
    "            self.q1.get() \n",
    "  \n",
    "        # swap the names of two queues since q1 is our original queue \n",
    "        # and q2 is the one we are keeping as an empty buffer  \n",
    "        self.q = self.q1  \n",
    "        self.q1 = self.q2  \n",
    "        self.q2 = self.q \n",
    "  \n",
    "    def pop(self): \n",
    "  \n",
    "        # if no elements are there in q1  \n",
    "        if (self.q1.empty()):  \n",
    "            return \"Cannot pop since the queue is empty\"\n",
    "        self.q1.get()  \n",
    "        self.current_size -= 1   #Since we are removing an element, decrease number of elements by 1\n",
    "  \n",
    "    def peek(self):     #Returns the value of element at the top \n",
    "        if (self.q1.empty()): \n",
    "            return \"The queue is empty\"\n",
    "        return self.q1.queue[0] \n",
    "  \n",
    "    def size(self): \n",
    "        return self.current_size \n",
    "  \n",
    "\n",
    " \n",
    "    "
   ]
  },
  {
   "cell_type": "code",
   "execution_count": 2,
   "metadata": {},
   "outputs": [
    {
     "name": "stdout",
     "output_type": "stream",
     "text": [
      "current size:  6\n",
      "Element at top is: 7\n",
      "current size:  4\n",
      "Element at top is: 8\n",
      "current size:  5\n",
      "Element at top is: 9\n"
     ]
    }
   ],
   "source": [
    "s = Stack() \n",
    "list1 = [1,4,2,8,5,7]\n",
    "\n",
    "for x in list1:\n",
    "    s.push(x)        #To make a stack of the elements in the order as above\n",
    "                     #Current size should 6 and peek should return the last element (i.e 7) since it is LIFO           \n",
    "  \n",
    "print(\"current size: \", s.size()) \n",
    "print(\"Element at top is:\",s.peek())  \n",
    "\n",
    "s.pop()\n",
    "s.pop()\n",
    "                     #After popping twice, top element should be 8 and size should be 4\n",
    "print(\"current size: \", s.size()) \n",
    "print(\"Element at top is:\",s.peek())\n",
    "\n",
    "s.push(9)\n",
    "                     #After element 9 is pushed into stack, element at top should be 9 and size should be 5   \n",
    "print(\"current size: \", s.size()) \n",
    "print(\"Element at top is:\",s.peek())\n",
    "    "
   ]
  },
  {
   "cell_type": "code",
   "execution_count": null,
   "metadata": {},
   "outputs": [],
   "source": []
  }
 ],
 "metadata": {
  "kernelspec": {
   "display_name": "Python 3",
   "language": "python",
   "name": "python3"
  },
  "language_info": {
   "codemirror_mode": {
    "name": "ipython",
    "version": 3
   },
   "file_extension": ".py",
   "mimetype": "text/x-python",
   "name": "python",
   "nbconvert_exporter": "python",
   "pygments_lexer": "ipython3",
   "version": "3.7.6"
  }
 },
 "nbformat": 4,
 "nbformat_minor": 4
}
